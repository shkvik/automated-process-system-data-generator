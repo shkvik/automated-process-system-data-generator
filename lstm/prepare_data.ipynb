{
 "cells": [
  {
   "cell_type": "code",
   "execution_count": 28,
   "metadata": {},
   "outputs": [],
   "source": [
    "%matplotlib inline\n",
    "import glob\n",
    "import matplotlib\n",
    "import numpy as np\n",
    "import pandas as pd\n",
    "import sklearn\n",
    "from matplotlib import pyplot as plt\n",
    "import seaborn as sns"
   ]
  },
  {
   "cell_type": "code",
   "execution_count": 26,
   "metadata": {},
   "outputs": [
    {
     "data": {
      "text/html": [
       "<div>\n",
       "<style scoped>\n",
       "    .dataframe tbody tr th:only-of-type {\n",
       "        vertical-align: middle;\n",
       "    }\n",
       "\n",
       "    .dataframe tbody tr th {\n",
       "        vertical-align: top;\n",
       "    }\n",
       "\n",
       "    .dataframe thead th {\n",
       "        text-align: right;\n",
       "    }\n",
       "</style>\n",
       "<table border=\"1\" class=\"dataframe\">\n",
       "  <thead>\n",
       "    <tr style=\"text-align: right;\">\n",
       "      <th></th>\n",
       "      <th>symbol</th>\n",
       "      <th>side</th>\n",
       "      <th>size</th>\n",
       "      <th>price</th>\n",
       "      <th>tickDirection</th>\n",
       "      <th>trdMatchID</th>\n",
       "      <th>grossValue</th>\n",
       "      <th>homeNotional</th>\n",
       "      <th>foreignNotional</th>\n",
       "    </tr>\n",
       "    <tr>\n",
       "      <th>timestamp</th>\n",
       "      <th></th>\n",
       "      <th></th>\n",
       "      <th></th>\n",
       "      <th></th>\n",
       "      <th></th>\n",
       "      <th></th>\n",
       "      <th></th>\n",
       "      <th></th>\n",
       "      <th></th>\n",
       "    </tr>\n",
       "  </thead>\n",
       "  <tbody>\n",
       "    <tr>\n",
       "      <th>2020-05-14 00:06:49.329382</th>\n",
       "      <td>ADAM20</td>\n",
       "      <td>Sell</td>\n",
       "      <td>2000</td>\n",
       "      <td>0.000006</td>\n",
       "      <td>MinusTick</td>\n",
       "      <td>5b46c724-1519-2689-e3a7-55b5d38f3a7d</td>\n",
       "      <td>1116000</td>\n",
       "      <td>2000.0</td>\n",
       "      <td>0.011160</td>\n",
       "    </tr>\n",
       "    <tr>\n",
       "      <th>2020-05-14 00:17:46.514368</th>\n",
       "      <td>ADAM20</td>\n",
       "      <td>Sell</td>\n",
       "      <td>1000</td>\n",
       "      <td>0.000006</td>\n",
       "      <td>ZeroMinusTick</td>\n",
       "      <td>e1c0c1d9-73d8-5efa-e94a-630b435ad7e8</td>\n",
       "      <td>558000</td>\n",
       "      <td>1000.0</td>\n",
       "      <td>0.005580</td>\n",
       "    </tr>\n",
       "    <tr>\n",
       "      <th>2020-05-14 00:21:06.751825</th>\n",
       "      <td>ADAM20</td>\n",
       "      <td>Sell</td>\n",
       "      <td>1200</td>\n",
       "      <td>0.000006</td>\n",
       "      <td>ZeroMinusTick</td>\n",
       "      <td>05f9bd68-556d-92cd-f5ac-f7ab972845ec</td>\n",
       "      <td>669600</td>\n",
       "      <td>1200.0</td>\n",
       "      <td>0.006696</td>\n",
       "    </tr>\n",
       "    <tr>\n",
       "      <th>2020-05-14 00:21:06.751825</th>\n",
       "      <td>ADAM20</td>\n",
       "      <td>Sell</td>\n",
       "      <td>704</td>\n",
       "      <td>0.000006</td>\n",
       "      <td>ZeroMinusTick</td>\n",
       "      <td>b1284e19-7628-46c6-0df4-fcc02cdd3457</td>\n",
       "      <td>392832</td>\n",
       "      <td>704.0</td>\n",
       "      <td>0.003928</td>\n",
       "    </tr>\n",
       "    <tr>\n",
       "      <th>2020-05-14 00:32:07.827891</th>\n",
       "      <td>ADAM20</td>\n",
       "      <td>Sell</td>\n",
       "      <td>500</td>\n",
       "      <td>0.000006</td>\n",
       "      <td>MinusTick</td>\n",
       "      <td>1463d0e8-3d8b-8dd2-464c-292f1e2097de</td>\n",
       "      <td>278500</td>\n",
       "      <td>500.0</td>\n",
       "      <td>0.002785</td>\n",
       "    </tr>\n",
       "  </tbody>\n",
       "</table>\n",
       "</div>"
      ],
      "text/plain": [
       "                            symbol  side  size     price  tickDirection  \\\n",
       "timestamp                                                                 \n",
       "2020-05-14 00:06:49.329382  ADAM20  Sell  2000  0.000006      MinusTick   \n",
       "2020-05-14 00:17:46.514368  ADAM20  Sell  1000  0.000006  ZeroMinusTick   \n",
       "2020-05-14 00:21:06.751825  ADAM20  Sell  1200  0.000006  ZeroMinusTick   \n",
       "2020-05-14 00:21:06.751825  ADAM20  Sell   704  0.000006  ZeroMinusTick   \n",
       "2020-05-14 00:32:07.827891  ADAM20  Sell   500  0.000006      MinusTick   \n",
       "\n",
       "                                                      trdMatchID  grossValue  \\\n",
       "timestamp                                                                      \n",
       "2020-05-14 00:06:49.329382  5b46c724-1519-2689-e3a7-55b5d38f3a7d     1116000   \n",
       "2020-05-14 00:17:46.514368  e1c0c1d9-73d8-5efa-e94a-630b435ad7e8      558000   \n",
       "2020-05-14 00:21:06.751825  05f9bd68-556d-92cd-f5ac-f7ab972845ec      669600   \n",
       "2020-05-14 00:21:06.751825  b1284e19-7628-46c6-0df4-fcc02cdd3457      392832   \n",
       "2020-05-14 00:32:07.827891  1463d0e8-3d8b-8dd2-464c-292f1e2097de      278500   \n",
       "\n",
       "                            homeNotional  foreignNotional  \n",
       "timestamp                                                  \n",
       "2020-05-14 00:06:49.329382        2000.0         0.011160  \n",
       "2020-05-14 00:17:46.514368        1000.0         0.005580  \n",
       "2020-05-14 00:21:06.751825        1200.0         0.006696  \n",
       "2020-05-14 00:21:06.751825         704.0         0.003928  \n",
       "2020-05-14 00:32:07.827891         500.0         0.002785  "
      ]
     },
     "execution_count": 26,
     "metadata": {},
     "output_type": "execute_result"
    }
   ],
   "source": [
    "files = sorted(glob.glob('data/trade_20200514.csv'))\n",
    "df = pd.concat(map(pd.read_csv, files))\n",
    "df = df[df.symbol == 'ADAM20']\n",
    "df.timestamp = pd.to_datetime(df.timestamp.str.replace('D', 'T')) # covert to timestamp type\n",
    "df = df.sort_values('timestamp')\n",
    "df.set_index('timestamp', inplace=True) # set index to timestamp\n",
    "\n",
    "df.head()"
   ]
  },
  {
   "cell_type": "code",
   "execution_count": 37,
   "metadata": {},
   "outputs": [
    {
     "data": {
      "text/plain": [
       "[<matplotlib.lines.Line2D at 0x17a0d025010>]"
      ]
     },
     "execution_count": 37,
     "metadata": {},
     "output_type": "execute_result"
    },
    {
     "data": {
      "image/png": "[encoded data removed]",
      "text/plain": [
       "<Figure size 640x480 with 1 Axes>"
      ]
     },
     "metadata": {},
     "output_type": "display_data"
    }
   ],
   "source": [
    "# sns.pairplot(df)\n",
    "plt.plot(df['price'][:1000])"
   ]
  }
 ],
 "metadata": {
  "kernelspec": {
   "display_name": "Python 3",
   "language": "python",
   "name": "python3"
  },
  "language_info": {
   "codemirror_mode": {
    "name": "ipython",
    "version": 3
   },
   "file_extension": ".py",
   "mimetype": "text/x-python",
   "name": "python",
   "nbconvert_exporter": "python",
   "pygments_lexer": "ipython3",
   "version": "3.11.2"
  },
  "orig_nbformat": 4
 },
 "nbformat": 4,
 "nbformat_minor": 2
}
