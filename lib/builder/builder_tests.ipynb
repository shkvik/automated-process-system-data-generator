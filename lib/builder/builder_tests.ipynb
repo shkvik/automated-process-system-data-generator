{
 "cells": [
  {
   "cell_type": "code",
   "execution_count": 1,
   "metadata": {},
   "outputs": [
    {
     "ename": "KeyboardInterrupt",
     "evalue": "",
     "output_type": "error",
     "traceback": [
      "\u001b[1;31m---------------------------------------------------------------------------\u001b[0m",
      "\u001b[1;31mKeyboardInterrupt\u001b[0m                         Traceback (most recent call last)",
      "Cell \u001b[1;32mIn[1], line 6\u001b[0m\n\u001b[0;32m      4\u001b[0m \u001b[39mfrom\u001b[39;00m \u001b[39mprocesses\u001b[39;00m\u001b[39m.\u001b[39;00m\u001b[39mprocess\u001b[39;00m \u001b[39mimport\u001b[39;00m algorithm\n\u001b[0;32m      5\u001b[0m \u001b[39mfrom\u001b[39;00m \u001b[39mprocesses\u001b[39;00m\u001b[39m.\u001b[39;00m\u001b[39mutils\u001b[39;00m \u001b[39mimport\u001b[39;00m compress\n\u001b[1;32m----> 6\u001b[0m \u001b[39mfrom\u001b[39;00m \u001b[39mprimitive\u001b[39;00m\u001b[39m.\u001b[39;00m\u001b[39mevent\u001b[39;00m \u001b[39mimport\u001b[39;00m event\n\u001b[0;32m      8\u001b[0m \u001b[39m# from builder import сyclicSimpleWork, eventProcessingWork\u001b[39;00m\n\u001b[0;32m      9\u001b[0m \u001b[39mimport\u001b[39;00m \u001b[39mmatplotlib\u001b[39;00m\u001b[39m.\u001b[39;00m\u001b[39mpyplot\u001b[39;00m \u001b[39mas\u001b[39;00m \u001b[39mplt\u001b[39;00m\n",
      "File \u001b[1;32md:\\Git\\automated-process-system-data-generator\\lib\\builder\\..\\primitive\\event.py:116\u001b[0m\n\u001b[0;32m    113\u001b[0m e \u001b[39m=\u001b[39m event()\n\u001b[0;32m    115\u001b[0m \u001b[39mfor\u001b[39;00m i \u001b[39min\u001b[39;00m \u001b[39mrange\u001b[39m(\u001b[39m0\u001b[39m, \u001b[39m6\u001b[39m):\n\u001b[1;32m--> 116\u001b[0m     e\u001b[39m.\u001b[39;49mrndProcess(\u001b[39m100\u001b[39;49m, rnd\u001b[39m.\u001b[39;49muniform(\u001b[39m30\u001b[39;49m, \u001b[39m100\u001b[39;49m))\n\u001b[0;32m    117\u001b[0m     e\u001b[39m.\u001b[39mdecreasePrc(\u001b[39m100\u001b[39m)\n\u001b[0;32m    118\u001b[0m     e\u001b[39m.\u001b[39mrndProcess(\u001b[39m100\u001b[39m, rnd\u001b[39m.\u001b[39muniform(\u001b[39m30\u001b[39m, \u001b[39m100\u001b[39m))\n",
      "File \u001b[1;32md:\\Git\\automated-process-system-data-generator\\lib\\builder\\..\\primitive\\event.py:107\u001b[0m, in \u001b[0;36mevent.rndProcess\u001b[1;34m(self, time, maxHeight)\u001b[0m\n\u001b[0;32m    105\u001b[0m         \u001b[39mself\u001b[39m\u001b[39m.\u001b[39msequenceEventSin(index)\n\u001b[0;32m    106\u001b[0m         \u001b[39mself\u001b[39m\u001b[39m.\u001b[39mincreaseEventSin(\u001b[39m20\u001b[39m, \u001b[39m100\u001b[39m)\n\u001b[1;32m--> 107\u001b[0m         \u001b[39mself\u001b[39;49m\u001b[39m.\u001b[39;49msequenceEventSin(time \u001b[39m-\u001b[39;49m (index \u001b[39m+\u001b[39;49m \u001b[39m20\u001b[39;49m))\n\u001b[0;32m    108\u001b[0m         block \u001b[39m=\u001b[39m \u001b[39mTrue\u001b[39;00m\n\u001b[0;32m    110\u001b[0m \u001b[39mif\u001b[39;00m \u001b[39mnot\u001b[39;00m swithOff:\n",
      "File \u001b[1;32md:\\Git\\automated-process-system-data-generator\\lib\\builder\\..\\primitive\\event.py:44\u001b[0m, in \u001b[0;36mevent.sequenceEventSin\u001b[1;34m(self, time)\u001b[0m\n\u001b[0;32m     43\u001b[0m \u001b[39mdef\u001b[39;00m \u001b[39msequenceEventSin\u001b[39m(\u001b[39mself\u001b[39m, time: \u001b[39mint\u001b[39m):\n\u001b[1;32m---> 44\u001b[0m     \u001b[39mwhile\u001b[39;00m(time \u001b[39m!=\u001b[39;49m \u001b[39m0\u001b[39;49m):\n\u001b[0;32m     45\u001b[0m         time \u001b[39m-\u001b[39m\u001b[39m=\u001b[39m \u001b[39m1\u001b[39m\n\u001b[0;32m     46\u001b[0m         \u001b[39mself\u001b[39m\u001b[39m.\u001b[39mparametersEvent\u001b[39m.\u001b[39msequense\u001b[39m.\u001b[39mappend(\u001b[39m0\u001b[39m)\n",
      "\u001b[1;31mKeyboardInterrupt\u001b[0m: "
     ]
    }
   ],
   "source": [
    "import sys\n",
    "sys.path.insert(0, '../')\n",
    "\n",
    "from processes.process import algorithm\n",
    "from processes.utils import compress\n",
    "from primitive.event import event\n",
    "\n",
    "# from builder import сyclicSimpleWork, eventProcessingWork\n",
    "import matplotlib.pyplot as plt\n",
    "import random as rnd"
   ]
  },
  {
   "cell_type": "code",
   "execution_count": null,
   "metadata": {},
   "outputs": [],
   "source": [
    "a = algorithm()\n",
    "a.primitive.parabola.increase(40, 50)\n",
    "a.primitive.linear.increase(100, 50)\n",
    "a.primitive.linear.decrease(100, 40)"
   ]
  },
  {
   "cell_type": "code",
   "execution_count": null,
   "metadata": {},
   "outputs": [],
   "source": [
    "# object \n",
    "\n",
    "b = сyclicSimpleWork()\n",
    "\n",
    "b = (\n",
    "    b.buildNormaSequence(10, 7)\n",
    "     .buildBreakSequence(10, 7)\n",
    "     .buildNormaSequence(10, 7)\n",
    "     .buildBreakSequence(10, 7)\n",
    "     .buildNormaSequence(10, 7)\n",
    "     )\n",
    "\n",
    "alg, binEvent, linEvent, algIndependOne, algIndependTwo = b.getSequence()"
   ]
  },
  {
   "cell_type": "code",
   "execution_count": null,
   "metadata": {},
   "outputs": [],
   "source": [
    "plt.rcParams['figure.figsize'] = [15, 5]\n",
    "\n",
    "alg = compress(alg)\n",
    "binEvent = compress(binEvent)\n",
    "linEvent = compress(linEvent)\n",
    "algIndependOne = compress(algIndependOne)\n",
    "algIndependTwo = compress(algIndependTwo)\n",
    "\n",
    "fig = plt.figure()\n",
    "\n",
    "colum = 6\n",
    "raw = 1\n",
    "\n",
    "ax_1 = fig.add_subplot(colum, raw, 1)\n",
    "ax_2 = fig.add_subplot(colum, raw, 2)\n",
    "ax_3 = fig.add_subplot(colum, raw, 3)\n",
    "ax_4 = fig.add_subplot(colum, raw, 4)\n",
    "ax_5 = fig.add_subplot(colum, raw, 5)\n",
    "ax_6 = fig.add_subplot(colum, raw, 6)\n",
    "\n",
    "ax_1.plot(alg)\n",
    "ax_2.plot(binEvent)\n",
    "ax_3.plot(linEvent)\n",
    "ax_4.plot(algIndependOne)\n",
    "ax_5.plot(algIndependTwo)\n",
    "\n",
    "ax_6.plot(alg)\n",
    "ax_6.plot(binEvent)\n",
    "ax_6.plot(linEvent)\n",
    "ax_6.plot(algIndependOne)\n",
    "ax_6.plot(algIndependTwo)\n",
    "\n",
    "plt.show()"
   ]
  },
  {
   "cell_type": "code",
   "execution_count": null,
   "metadata": {},
   "outputs": [],
   "source": [
    "plt.rcParams['figure.figsize'] = [15, 5]\n",
    "e = eventProcessingWork()\n",
    "\n",
    "e.buildNormaSequence()\n",
    "plt.plot(e.getSequence())\n"
   ]
  },
  {
   "cell_type": "code",
   "execution_count": null,
   "metadata": {},
   "outputs": [],
   "source": []
  }
 ],
 "metadata": {
  "kernelspec": {
   "display_name": "Python 3",
   "language": "python",
   "name": "python3"
  },
  "language_info": {
   "codemirror_mode": {
    "name": "ipython",
    "version": 3
   },
   "file_extension": ".py",
   "mimetype": "text/x-python",
   "name": "python",
   "nbconvert_exporter": "python",
   "pygments_lexer": "ipython3",
   "version": "3.11.2"
  },
  "orig_nbformat": 4
 },
 "nbformat": 4,
 "nbformat_minor": 2
}
